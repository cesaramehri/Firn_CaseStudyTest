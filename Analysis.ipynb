{
 "cells": [
  {
   "cell_type": "markdown",
   "metadata": {},
   "source": [
    "## -- Show the typical duration and number of trips for the 10 most common one-way rentals"
   ]
  },
  {
   "cell_type": "code",
   "execution_count": null,
   "metadata": {
    "vscode": {
     "languageId": "sql"
    }
   },
   "outputs": [],
   "source": [
    "SELECT\n",
    "  MIN(start_station_name) AS start_station_name,\n",
    "  MIN(end_station_name) AS end_station_name,\n",
    "  APPROX_QUANTILES(tripduration, 10)[OFFSET(5)] AS typical_duration,\n",
    "  COUNT(tripduration) AS num_trips\n",
    "FROM\n",
    "  `bigquery-public-data.new_york_citibike.citibike_trips`\n",
    "WHERE\n",
    "  start_station_id != end_station_id\n",
    "GROUP BY\n",
    "  start_station_id,\n",
    "  end_station_id\n",
    "ORDER BY\n",
    "  num_trips DESC\n",
    "LIMIT\n",
    "  10;"
   ]
  },
  {
   "cell_type": "markdown",
   "metadata": {},
   "source": [
    "## Show top 5 bike's distance"
   ]
  },
  {
   "cell_type": "code",
   "execution_count": null,
   "metadata": {
    "vscode": {
     "languageId": "sql"
    }
   },
   "outputs": [],
   "source": [
    "WITH\n",
    "  trip_distance AS (\n",
    "  SELECT\n",
    "    bikeid,\n",
    "    ST_DISTANCE(ST_GEOGPOINT(s.longitude,s.latitude), ST_GEOGPOINT(e.longitude,e.latitude)) AS distance\n",
    "  FROM\n",
    "    `bigquery-public-data.new_york_citibike.citibike_trips`,\n",
    "    `bigquery-public-data.new_york_citibike.citibike_stations` AS s,\n",
    "    `bigquery-public-data.new_york_citibike.citibike_stations` AS e\n",
    "  WHERE\n",
    "    start_station_name = s.name\n",
    "    AND end_station_name = e.name )\n",
    "SELECT\n",
    "  bikeid,\n",
    "  SUM(distance)/1000 AS total_distance\n",
    "FROM\n",
    "  trip_distance\n",
    "GROUP BY\n",
    "  bikeid\n",
    "ORDER BY\n",
    "  total_distance DESC\n",
    "LIMIT\n",
    "  5;"
   ]
  },
  {
   "cell_type": "markdown",
   "metadata": {},
   "source": [
    "## Show rainfall (in mm) for all days in 2015 from a weather station in New York with a specified id (the station corresponds to NEW YORK CNTRL PK TWR )"
   ]
  },
  {
   "cell_type": "code",
   "execution_count": null,
   "metadata": {
    "vscode": {
     "languageId": "sql"
    }
   },
   "outputs": [],
   "source": [
    "SELECT\n",
    "  wx.date,\n",
    "  wx.value/10.0 AS prcp\n",
    "FROM\n",
    "  `bigquery-public-data.ghcn_d.ghcnd_2015` AS wx\n",
    "WHERE\n",
    "  id = 'USW00094728'\n",
    "  AND qflag IS NULL\n",
    "  AND element = 'PRCP'\n",
    "ORDER BY\n",
    "  wx.date;"
   ]
  },
  {
   "cell_type": "markdown",
   "metadata": {},
   "source": [
    "## Find correlation between rain and bicycle rentals"
   ]
  },
  {
   "cell_type": "code",
   "execution_count": null,
   "metadata": {
    "vscode": {
     "languageId": "sql"
    }
   },
   "outputs": [],
   "source": [
    "WITH bicycle_rentals AS (\n",
    "  SELECT COUNT(starttime) AS num_trips,\n",
    "  EXTRACT(DATE from starttime) AS trip_date \n",
    "  FROM  `bigquery-public-data.new_york_citibike.citibike_trips`\n",
    "  GROUP BY trip_date\n",
    "),\n",
    "\n",
    "rainy_days AS (\n",
    "    SELECT date, (MAX(prcp)>5) AS rainy \n",
    "    FROM (\n",
    "      SELECT wx.date AS date,\n",
    "            IF(wx.element='PRCP', wx.value/10.0, NULL) as prcp\n",
    "      FROM `bigquery-public-data.ghcn_d.ghcnd_2015` AS wx\n",
    "      WHERE wx.id = 'USW00094728'\n",
    "    )\n",
    "  GROUP BY date\n",
    ")\n",
    "SELECT\n",
    "  ROUND(AVG(bk.num_trips)) AS num_trips,\n",
    "  wx.rainy\n",
    "FROM\n",
    "  bicycle_rentals AS bk\n",
    "JOIN\n",
    "  rainy_days AS wx\n",
    "ON\n",
    "  wx.date = bk.trip_date\n",
    "GROUP BY\n",
    "  wx.rainy;"
   ]
  }
 ],
 "metadata": {
  "language_info": {
   "name": "python"
  }
 },
 "nbformat": 4,
 "nbformat_minor": 2
}
